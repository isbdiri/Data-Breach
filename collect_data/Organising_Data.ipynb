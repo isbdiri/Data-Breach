{
 "cells": [
  {
   "cell_type": "code",
   "execution_count": 1,
   "id": "30addb39",
   "metadata": {},
   "outputs": [],
   "source": [
    "import pandas as pd\n",
    "from random import randint\n",
    "from math import log\n",
    "import json"
   ]
  },
  {
   "cell_type": "code",
   "execution_count": 2,
   "id": "697857ee",
   "metadata": {},
   "outputs": [],
   "source": [
    "Df = pd.read_csv(\"./databreach.csv\")\n",
    "Df[\"Date\"] = pd.to_datetime(Df[\"Date\"])\n",
    "Df[\"data_classes\"] = [ i.split(\",\") for i in Df[\"data_classes\"] ]"
   ]
  },
  {
   "cell_type": "code",
   "execution_count": 3,
   "id": "211700ae",
   "metadata": {},
   "outputs": [
    {
     "data": {
      "text/html": [
       "<div>\n",
       "<style scoped>\n",
       "    .dataframe tbody tr th:only-of-type {\n",
       "        vertical-align: middle;\n",
       "    }\n",
       "\n",
       "    .dataframe tbody tr th {\n",
       "        vertical-align: top;\n",
       "    }\n",
       "\n",
       "    .dataframe thead th {\n",
       "        text-align: right;\n",
       "    }\n",
       "</style>\n",
       "<table border=\"1\" class=\"dataframe\">\n",
       "  <thead>\n",
       "    <tr style=\"text-align: right;\">\n",
       "      <th></th>\n",
       "      <th>Date</th>\n",
       "      <th>Org</th>\n",
       "      <th>category</th>\n",
       "      <th>breach_count(Million)</th>\n",
       "      <th>employee_count</th>\n",
       "      <th>data_classes</th>\n",
       "    </tr>\n",
       "  </thead>\n",
       "  <tbody>\n",
       "    <tr>\n",
       "      <th>0</th>\n",
       "      <td>2017-10-01</td>\n",
       "      <td>Yahoo</td>\n",
       "      <td>web services</td>\n",
       "      <td>3000.0</td>\n",
       "      <td>8600.0</td>\n",
       "      <td>[Security questions and answers]</td>\n",
       "    </tr>\n",
       "    <tr>\n",
       "      <th>1</th>\n",
       "      <td>2018-03-01</td>\n",
       "      <td>UIDAI</td>\n",
       "      <td>public welfare</td>\n",
       "      <td>1100.0</td>\n",
       "      <td>NaN</td>\n",
       "      <td>[Names, Aadhar number, Bank account numbers]</td>\n",
       "    </tr>\n",
       "    <tr>\n",
       "      <th>2</th>\n",
       "      <td>2014-01-01</td>\n",
       "      <td>Yahoo</td>\n",
       "      <td>web services</td>\n",
       "      <td>500.0</td>\n",
       "      <td>8600.0</td>\n",
       "      <td>[Names, Email addresses, Phone numbers, Passwo...</td>\n",
       "    </tr>\n",
       "    <tr>\n",
       "      <th>3</th>\n",
       "      <td>2013-06-01</td>\n",
       "      <td>MySpace</td>\n",
       "      <td>social media</td>\n",
       "      <td>360.0</td>\n",
       "      <td>150.0</td>\n",
       "      <td>[Names, Usernames, Dates of birth]</td>\n",
       "    </tr>\n",
       "    <tr>\n",
       "      <th>4</th>\n",
       "      <td>2018-06-01</td>\n",
       "      <td>Exactis</td>\n",
       "      <td>web services</td>\n",
       "      <td>340.0</td>\n",
       "      <td>NaN</td>\n",
       "      <td>[Phone numbers, Physical addresses, Email addr...</td>\n",
       "    </tr>\n",
       "  </tbody>\n",
       "</table>\n",
       "</div>"
      ],
      "text/plain": [
       "        Date      Org        category  breach_count(Million)  employee_count  \\\n",
       "0 2017-10-01    Yahoo    web services                 3000.0          8600.0   \n",
       "1 2018-03-01    UIDAI  public welfare                 1100.0             NaN   \n",
       "2 2014-01-01    Yahoo    web services                  500.0          8600.0   \n",
       "3 2013-06-01  MySpace    social media                  360.0           150.0   \n",
       "4 2018-06-01  Exactis    web services                  340.0             NaN   \n",
       "\n",
       "                                        data_classes  \n",
       "0                   [Security questions and answers]  \n",
       "1       [Names, Aadhar number, Bank account numbers]  \n",
       "2  [Names, Email addresses, Phone numbers, Passwo...  \n",
       "3                 [Names, Usernames, Dates of birth]  \n",
       "4  [Phone numbers, Physical addresses, Email addr...  "
      ]
     },
     "execution_count": 3,
     "metadata": {},
     "output_type": "execute_result"
    }
   ],
   "source": [
    "Df.head()"
   ]
  },
  {
   "cell_type": "markdown",
   "id": "16ec6b1c",
   "metadata": {},
   "source": [
    "### group by year"
   ]
  },
  {
   "cell_type": "code",
   "execution_count": 4,
   "id": "92e2b25b",
   "metadata": {},
   "outputs": [],
   "source": [
    "Df[\"year\"] = Df.Date.dt.year\n",
    "Df_year = pd.DataFrame(Df.groupby(\"year\")[\"Date\"].agg(\"count\"))\n",
    "Df = Df.drop([\"year\"], axis=1)\n"
   ]
  },
  {
   "cell_type": "code",
   "execution_count": 5,
   "id": "c2c00d53",
   "metadata": {},
   "outputs": [
    {
     "data": {
      "text/html": [
       "<div>\n",
       "<style scoped>\n",
       "    .dataframe tbody tr th:only-of-type {\n",
       "        vertical-align: middle;\n",
       "    }\n",
       "\n",
       "    .dataframe tbody tr th {\n",
       "        vertical-align: top;\n",
       "    }\n",
       "\n",
       "    .dataframe thead th {\n",
       "        text-align: right;\n",
       "    }\n",
       "</style>\n",
       "<table border=\"1\" class=\"dataframe\">\n",
       "  <thead>\n",
       "    <tr style=\"text-align: right;\">\n",
       "      <th></th>\n",
       "      <th>Date</th>\n",
       "    </tr>\n",
       "    <tr>\n",
       "      <th>year</th>\n",
       "      <th></th>\n",
       "    </tr>\n",
       "  </thead>\n",
       "  <tbody>\n",
       "    <tr>\n",
       "      <th>2012</th>\n",
       "      <td>1</td>\n",
       "    </tr>\n",
       "    <tr>\n",
       "      <th>2013</th>\n",
       "      <td>3</td>\n",
       "    </tr>\n",
       "    <tr>\n",
       "      <th>2014</th>\n",
       "      <td>2</td>\n",
       "    </tr>\n",
       "    <tr>\n",
       "      <th>2016</th>\n",
       "      <td>3</td>\n",
       "    </tr>\n",
       "    <tr>\n",
       "      <th>2017</th>\n",
       "      <td>2</td>\n",
       "    </tr>\n",
       "  </tbody>\n",
       "</table>\n",
       "</div>"
      ],
      "text/plain": [
       "      Date\n",
       "year      \n",
       "2012     1\n",
       "2013     3\n",
       "2014     2\n",
       "2016     3\n",
       "2017     2"
      ]
     },
     "execution_count": 5,
     "metadata": {},
     "output_type": "execute_result"
    }
   ],
   "source": [
    "Df_year.head()"
   ]
  },
  {
   "cell_type": "code",
   "execution_count": 6,
   "id": "59c0c967",
   "metadata": {},
   "outputs": [],
   "source": [
    "Df_year.to_csv(\"./final/year_bar_chart.csv\")"
   ]
  },
  {
   "cell_type": "markdown",
   "id": "920549cb",
   "metadata": {},
   "source": [
    "### generate mock data for missing employee counts"
   ]
  },
  {
   "cell_type": "code",
   "execution_count": 7,
   "id": "c04f06f8",
   "metadata": {},
   "outputs": [],
   "source": [
    "temp = []\n",
    "for i in Df[\"employee_count\"]:\n",
    "    try:\n",
    "        temp.append(int(i))\n",
    "    except:\n",
    "        temp.append(randint(0,1000))\n",
    "Df[\"employee_count\"] = temp"
   ]
  },
  {
   "cell_type": "markdown",
   "id": "9cd3b261",
   "metadata": {},
   "source": [
    "### scatter plot and exposure index"
   ]
  },
  {
   "cell_type": "code",
   "execution_count": 8,
   "id": "55d62cd5",
   "metadata": {},
   "outputs": [
    {
     "data": {
      "text/plain": [
       "1.0986122886681098"
      ]
     },
     "execution_count": 8,
     "metadata": {},
     "output_type": "execute_result"
    }
   ],
   "source": [
    "log(3)"
   ]
  },
  {
   "cell_type": "code",
   "execution_count": 9,
   "id": "c0dfb5f6",
   "metadata": {
    "scrolled": true
   },
   "outputs": [],
   "source": [
    "Df['exposure_index'] = [\n",
    "                        log((Df[\"breach_count(Million)\"][num])*len(i))\n",
    "                        for num, i in enumerate(Df[\"data_classes\"])\n",
    "                        ]\n",
    "Df_scatter = Df[[\"exposure_index\", \"employee_count\", \"category\", \"Org\"]]\n"
   ]
  },
  {
   "cell_type": "code",
   "execution_count": 10,
   "id": "67a41e37",
   "metadata": {},
   "outputs": [
    {
     "data": {
      "text/html": [
       "<div>\n",
       "<style scoped>\n",
       "    .dataframe tbody tr th:only-of-type {\n",
       "        vertical-align: middle;\n",
       "    }\n",
       "\n",
       "    .dataframe tbody tr th {\n",
       "        vertical-align: top;\n",
       "    }\n",
       "\n",
       "    .dataframe thead th {\n",
       "        text-align: right;\n",
       "    }\n",
       "</style>\n",
       "<table border=\"1\" class=\"dataframe\">\n",
       "  <thead>\n",
       "    <tr style=\"text-align: right;\">\n",
       "      <th></th>\n",
       "      <th>exposure_index</th>\n",
       "      <th>employee_count</th>\n",
       "      <th>category</th>\n",
       "      <th>Org</th>\n",
       "    </tr>\n",
       "  </thead>\n",
       "  <tbody>\n",
       "    <tr>\n",
       "      <th>0</th>\n",
       "      <td>8.006368</td>\n",
       "      <td>8600</td>\n",
       "      <td>web services</td>\n",
       "      <td>Yahoo</td>\n",
       "    </tr>\n",
       "    <tr>\n",
       "      <th>1</th>\n",
       "      <td>8.101678</td>\n",
       "      <td>527</td>\n",
       "      <td>public welfare</td>\n",
       "      <td>UIDAI</td>\n",
       "    </tr>\n",
       "    <tr>\n",
       "      <th>2</th>\n",
       "      <td>8.006368</td>\n",
       "      <td>8600</td>\n",
       "      <td>web services</td>\n",
       "      <td>Yahoo</td>\n",
       "    </tr>\n",
       "    <tr>\n",
       "      <th>3</th>\n",
       "      <td>6.984716</td>\n",
       "      <td>150</td>\n",
       "      <td>social media</td>\n",
       "      <td>MySpace</td>\n",
       "    </tr>\n",
       "    <tr>\n",
       "      <th>4</th>\n",
       "      <td>7.620705</td>\n",
       "      <td>486</td>\n",
       "      <td>web services</td>\n",
       "      <td>Exactis</td>\n",
       "    </tr>\n",
       "  </tbody>\n",
       "</table>\n",
       "</div>"
      ],
      "text/plain": [
       "   exposure_index  employee_count        category      Org\n",
       "0        8.006368            8600    web services    Yahoo\n",
       "1        8.101678             527  public welfare    UIDAI\n",
       "2        8.006368            8600    web services    Yahoo\n",
       "3        6.984716             150    social media  MySpace\n",
       "4        7.620705             486    web services  Exactis"
      ]
     },
     "execution_count": 10,
     "metadata": {},
     "output_type": "execute_result"
    }
   ],
   "source": [
    "Df_scatter.head()"
   ]
  },
  {
   "cell_type": "code",
   "execution_count": 11,
   "id": "306aeb58",
   "metadata": {},
   "outputs": [],
   "source": [
    "Df_scatter.to_csv(\"./final/scatter_data.csv\")"
   ]
  },
  {
   "cell_type": "markdown",
   "id": "e7b5e749",
   "metadata": {},
   "source": [
    "### network graph\n"
   ]
  },
  {
   "cell_type": "code",
   "execution_count": 12,
   "id": "ff4a13e3",
   "metadata": {},
   "outputs": [
    {
     "data": {
      "text/html": [
       "<div>\n",
       "<style scoped>\n",
       "    .dataframe tbody tr th:only-of-type {\n",
       "        vertical-align: middle;\n",
       "    }\n",
       "\n",
       "    .dataframe tbody tr th {\n",
       "        vertical-align: top;\n",
       "    }\n",
       "\n",
       "    .dataframe thead th {\n",
       "        text-align: right;\n",
       "    }\n",
       "</style>\n",
       "<table border=\"1\" class=\"dataframe\">\n",
       "  <thead>\n",
       "    <tr style=\"text-align: right;\">\n",
       "      <th></th>\n",
       "      <th>Data_classes</th>\n",
       "      <th>Data_category</th>\n",
       "    </tr>\n",
       "  </thead>\n",
       "  <tbody>\n",
       "    <tr>\n",
       "      <th>0</th>\n",
       "      <td>Email addresses</td>\n",
       "      <td>[PII]</td>\n",
       "    </tr>\n",
       "    <tr>\n",
       "      <th>1</th>\n",
       "      <td>Passwords</td>\n",
       "      <td>[passwords]</td>\n",
       "    </tr>\n",
       "    <tr>\n",
       "      <th>2</th>\n",
       "      <td>Usernames</td>\n",
       "      <td>[PII]</td>\n",
       "    </tr>\n",
       "    <tr>\n",
       "      <th>3</th>\n",
       "      <td>IP addresses</td>\n",
       "      <td>[device info]</td>\n",
       "    </tr>\n",
       "    <tr>\n",
       "      <th>4</th>\n",
       "      <td>Names</td>\n",
       "      <td>[PII]</td>\n",
       "    </tr>\n",
       "  </tbody>\n",
       "</table>\n",
       "</div>"
      ],
      "text/plain": [
       "      Data_classes  Data_category\n",
       "0  Email addresses          [PII]\n",
       "1        Passwords    [passwords]\n",
       "2        Usernames          [PII]\n",
       "3     IP addresses  [device info]\n",
       "4            Names          [PII]"
      ]
     },
     "execution_count": 12,
     "metadata": {},
     "output_type": "execute_result"
    }
   ],
   "source": [
    "#  importing categories\n",
    "Df_cats = pd.read_csv(\"./Classes_to_Cats.csv\")\n",
    "Df_cats[\"Data_category\"] = [i.split(\",\") for i in Df_cats[\"Data_category\"]]\n",
    "Df_cats.head()"
   ]
  },
  {
   "cell_type": "code",
   "execution_count": 13,
   "id": "1384e19d",
   "metadata": {},
   "outputs": [
    {
     "data": {
      "text/plain": [
       "['PII',\n",
       " 'passwords',\n",
       " 'device info',\n",
       " 'age',\n",
       " 'geolocation',\n",
       " 'demographics',\n",
       " 'consumer behavior',\n",
       " 'personal communication',\n",
       " 'employment history',\n",
       " 'financial info',\n",
       " 'health',\n",
       " 'social',\n",
       " 'demographic',\n",
       " 'password']"
      ]
     },
     "execution_count": 13,
     "metadata": {},
     "output_type": "execute_result"
    }
   ],
   "source": [
    "# unique cats\n",
    "unique_cats = {}\n",
    "for i in Df_cats[\"Data_category\"]:\n",
    "    for j in i:\n",
    "        if j not in unique_cats:\n",
    "            unique_cats[j] = 0\n",
    "unique_cats = list(unique_cats.keys())\n",
    "unique_cats"
   ]
  },
  {
   "cell_type": "code",
   "execution_count": 14,
   "id": "bc096b71",
   "metadata": {},
   "outputs": [],
   "source": [
    "class_to_cat = {}\n",
    "for i in Df_cats.iterrows():\n",
    "    class_to_cat[i[1][0]] = i[1][1][0]"
   ]
  },
  {
   "cell_type": "code",
   "execution_count": 15,
   "id": "cd18ba26",
   "metadata": {},
   "outputs": [
    {
     "data": {
      "text/html": [
       "<div>\n",
       "<style scoped>\n",
       "    .dataframe tbody tr th:only-of-type {\n",
       "        vertical-align: middle;\n",
       "    }\n",
       "\n",
       "    .dataframe tbody tr th {\n",
       "        vertical-align: top;\n",
       "    }\n",
       "\n",
       "    .dataframe thead th {\n",
       "        text-align: right;\n",
       "    }\n",
       "</style>\n",
       "<table border=\"1\" class=\"dataframe\">\n",
       "  <thead>\n",
       "    <tr style=\"text-align: right;\">\n",
       "      <th></th>\n",
       "      <th>Date</th>\n",
       "      <th>Org</th>\n",
       "      <th>category</th>\n",
       "      <th>breach_count(Million)</th>\n",
       "      <th>employee_count</th>\n",
       "      <th>data_classes</th>\n",
       "      <th>exposure_index</th>\n",
       "      <th>data_cats</th>\n",
       "    </tr>\n",
       "  </thead>\n",
       "  <tbody>\n",
       "    <tr>\n",
       "      <th>0</th>\n",
       "      <td>2017-10-01</td>\n",
       "      <td>Yahoo</td>\n",
       "      <td>web services</td>\n",
       "      <td>3000.0</td>\n",
       "      <td>8600</td>\n",
       "      <td>[Security questions and answers]</td>\n",
       "      <td>8.006368</td>\n",
       "      <td>[passwords]</td>\n",
       "    </tr>\n",
       "    <tr>\n",
       "      <th>1</th>\n",
       "      <td>2018-03-01</td>\n",
       "      <td>UIDAI</td>\n",
       "      <td>public welfare</td>\n",
       "      <td>1100.0</td>\n",
       "      <td>527</td>\n",
       "      <td>[Names, Aadhar number, Bank account numbers]</td>\n",
       "      <td>8.101678</td>\n",
       "      <td>[PII, financial info]</td>\n",
       "    </tr>\n",
       "    <tr>\n",
       "      <th>2</th>\n",
       "      <td>2014-01-01</td>\n",
       "      <td>Yahoo</td>\n",
       "      <td>web services</td>\n",
       "      <td>500.0</td>\n",
       "      <td>8600</td>\n",
       "      <td>[Names, Email addresses, Phone numbers, Passwo...</td>\n",
       "      <td>8.006368</td>\n",
       "      <td>[PII, passwords, age]</td>\n",
       "    </tr>\n",
       "    <tr>\n",
       "      <th>3</th>\n",
       "      <td>2013-06-01</td>\n",
       "      <td>MySpace</td>\n",
       "      <td>social media</td>\n",
       "      <td>360.0</td>\n",
       "      <td>150</td>\n",
       "      <td>[Names, Usernames, Dates of birth]</td>\n",
       "      <td>6.984716</td>\n",
       "      <td>[PII, age]</td>\n",
       "    </tr>\n",
       "    <tr>\n",
       "      <th>4</th>\n",
       "      <td>2018-06-01</td>\n",
       "      <td>Exactis</td>\n",
       "      <td>web services</td>\n",
       "      <td>340.0</td>\n",
       "      <td>486</td>\n",
       "      <td>[Phone numbers, Physical addresses, Email addr...</td>\n",
       "      <td>7.620705</td>\n",
       "      <td>[PII, geolocation, consumer behavior, demograp...</td>\n",
       "    </tr>\n",
       "  </tbody>\n",
       "</table>\n",
       "</div>"
      ],
      "text/plain": [
       "        Date      Org        category  breach_count(Million)  employee_count  \\\n",
       "0 2017-10-01    Yahoo    web services                 3000.0            8600   \n",
       "1 2018-03-01    UIDAI  public welfare                 1100.0             527   \n",
       "2 2014-01-01    Yahoo    web services                  500.0            8600   \n",
       "3 2013-06-01  MySpace    social media                  360.0             150   \n",
       "4 2018-06-01  Exactis    web services                  340.0             486   \n",
       "\n",
       "                                        data_classes  exposure_index  \\\n",
       "0                   [Security questions and answers]        8.006368   \n",
       "1       [Names, Aadhar number, Bank account numbers]        8.101678   \n",
       "2  [Names, Email addresses, Phone numbers, Passwo...        8.006368   \n",
       "3                 [Names, Usernames, Dates of birth]        6.984716   \n",
       "4  [Phone numbers, Physical addresses, Email addr...        7.620705   \n",
       "\n",
       "                                           data_cats  \n",
       "0                                        [passwords]  \n",
       "1                              [PII, financial info]  \n",
       "2                              [PII, passwords, age]  \n",
       "3                                         [PII, age]  \n",
       "4  [PII, geolocation, consumer behavior, demograp...  "
      ]
     },
     "execution_count": 15,
     "metadata": {},
     "output_type": "execute_result"
    }
   ],
   "source": [
    "# data_cats exposed\n",
    "cats_exposed = []\n",
    "for i in Df.data_classes:\n",
    "    temp = []\n",
    "    for j in i:\n",
    "        if class_to_cat[j] not in temp:\n",
    "            temp.append(class_to_cat[j])\n",
    "    cats_exposed.append(temp)\n",
    "Df[\"data_cats\"] = cats_exposed\n",
    "Df.head()"
   ]
  },
  {
   "cell_type": "code",
   "execution_count": 16,
   "id": "77d41307",
   "metadata": {},
   "outputs": [],
   "source": [
    "final_network_data = []"
   ]
  },
  {
   "cell_type": "code",
   "execution_count": 17,
   "id": "cddce80b",
   "metadata": {},
   "outputs": [],
   "source": [
    "for i in unique_cats:\n",
    "    count = 0\n",
    "    for j in unique_cats:\n",
    "        if i != j:\n",
    "            for point in Df.data_cats:\n",
    "                if (i in point) and (j in point):\n",
    "                    final_network_data.append({\n",
    "                                    \"data\":{\n",
    "                                            'source': i.lower(),\n",
    "                                            'target': j.lower()\n",
    "                                            }\n",
    "                                })\n",
    "                    count += 1\n",
    "    if count:\n",
    "        final_network_data.append({\n",
    "                            'data':{\n",
    "                                    'id': i.lower(),\n",
    "                                    'label':i\n",
    "                                    }\n",
    "                            })"
   ]
  },
  {
   "cell_type": "raw",
   "id": "49b80870",
   "metadata": {},
   "source": [
    "final_network_data"
   ]
  },
  {
   "cell_type": "code",
   "execution_count": 18,
   "id": "c3b758eb",
   "metadata": {},
   "outputs": [],
   "source": [
    "# saving json\n",
    "json_object = json.dumps(final_network_data, indent = 4)\n",
    "with open(\"./final/network_data.json\", \"w\") as outfile:\n",
    "    outfile.write(json_object)"
   ]
  },
  {
   "cell_type": "code",
   "execution_count": null,
   "id": "43fb97e7",
   "metadata": {},
   "outputs": [],
   "source": []
  }
 ],
 "metadata": {
  "kernelspec": {
   "display_name": "Python 3",
   "language": "python",
   "name": "python3"
  },
  "language_info": {
   "codemirror_mode": {
    "name": "ipython",
    "version": 3
   },
   "file_extension": ".py",
   "mimetype": "text/x-python",
   "name": "python",
   "nbconvert_exporter": "python",
   "pygments_lexer": "ipython3",
   "version": "3.7.5"
  }
 },
 "nbformat": 4,
 "nbformat_minor": 5
}
