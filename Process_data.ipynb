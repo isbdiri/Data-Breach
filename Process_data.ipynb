{
 "cells": [
  {
   "cell_type": "code",
   "execution_count": 1,
   "id": "010a7ac1",
   "metadata": {},
   "outputs": [],
   "source": [
    "import pandas as pd\n",
    "from numpy.random import randint\n",
    "import json"
   ]
  },
  {
   "cell_type": "code",
   "execution_count": 2,
   "id": "ed294235",
   "metadata": {},
   "outputs": [],
   "source": [
    "from plotting.data.databreach2 import data"
   ]
  },
  {
   "cell_type": "code",
   "execution_count": 3,
   "id": "17d55c2d",
   "metadata": {},
   "outputs": [
    {
     "name": "stdout",
     "output_type": "stream",
     "text": [
      "num data points:  540\n",
      "columns:  dict_keys(['Name', 'Title', 'Domain', 'BreachDate', 'AddedDate', 'ModifiedDate', 'PwnCount', 'Description', 'LogoPath', 'DataClasses', 'IsVerified', 'IsFabricated', 'IsSensitive', 'IsRetired', 'IsSpamList'])\n"
     ]
    }
   ],
   "source": [
    "print(\"num data points: \", len(data))\n",
    "print(\"columns: \", data[0].keys())"
   ]
  },
  {
   "cell_type": "code",
   "execution_count": 4,
   "id": "10f0d595",
   "metadata": {},
   "outputs": [],
   "source": [
    "data2 = pd.read_csv(\"./plotting/data/databreach.csv\")"
   ]
  },
  {
   "cell_type": "code",
   "execution_count": 5,
   "id": "02f0c487",
   "metadata": {},
   "outputs": [
    {
     "data": {
      "text/html": [
       "<div>\n",
       "<style scoped>\n",
       "    .dataframe tbody tr th:only-of-type {\n",
       "        vertical-align: middle;\n",
       "    }\n",
       "\n",
       "    .dataframe tbody tr th {\n",
       "        vertical-align: top;\n",
       "    }\n",
       "\n",
       "    .dataframe thead th {\n",
       "        text-align: right;\n",
       "    }\n",
       "</style>\n",
       "<table border=\"1\" class=\"dataframe\">\n",
       "  <thead>\n",
       "    <tr style=\"text-align: right;\">\n",
       "      <th></th>\n",
       "      <th>Date</th>\n",
       "      <th>Org</th>\n",
       "      <th>Category</th>\n",
       "      <th>breach_count</th>\n",
       "      <th>type</th>\n",
       "    </tr>\n",
       "  </thead>\n",
       "  <tbody>\n",
       "    <tr>\n",
       "      <th>0</th>\n",
       "      <td>04-2020</td>\n",
       "      <td>CAM4</td>\n",
       "      <td>live streaming website</td>\n",
       "      <td>10880.0</td>\n",
       "      <td>[Names,Email addresses,Genders,Chat transcript...</td>\n",
       "    </tr>\n",
       "    <tr>\n",
       "      <th>1</th>\n",
       "      <td>10-2017</td>\n",
       "      <td>Yahoo</td>\n",
       "      <td>web services provider</td>\n",
       "      <td>3000.0</td>\n",
       "      <td>[ Security questions, security answers]</td>\n",
       "    </tr>\n",
       "    <tr>\n",
       "      <th>2</th>\n",
       "      <td>03-2018</td>\n",
       "      <td>Aadhar</td>\n",
       "      <td>NaN</td>\n",
       "      <td>1100.0</td>\n",
       "      <td>[ Names, Aadhar number, bank details]</td>\n",
       "    </tr>\n",
       "    <tr>\n",
       "      <th>3</th>\n",
       "      <td>03-2019</td>\n",
       "      <td>First American Financial Corp.</td>\n",
       "      <td>financial services company</td>\n",
       "      <td>885.0</td>\n",
       "      <td>[bank account records, social security numbers...</td>\n",
       "    </tr>\n",
       "    <tr>\n",
       "      <th>4</th>\n",
       "      <td>02-2019</td>\n",
       "      <td>Verifications.io</td>\n",
       "      <td>security startup</td>\n",
       "      <td>763.0</td>\n",
       "      <td>[names, phone numbers, IP addresses, dates of ...</td>\n",
       "    </tr>\n",
       "    <tr>\n",
       "      <th>...</th>\n",
       "      <td>...</td>\n",
       "      <td>...</td>\n",
       "      <td>...</td>\n",
       "      <td>...</td>\n",
       "      <td>...</td>\n",
       "    </tr>\n",
       "    <tr>\n",
       "      <th>57</th>\n",
       "      <td>10-2019</td>\n",
       "      <td>Multiple Indian Banks</td>\n",
       "      <td>bank</td>\n",
       "      <td>1.3</td>\n",
       "      <td>[names, emails, phone numbers, addresses]</td>\n",
       "    </tr>\n",
       "    <tr>\n",
       "      <th>58</th>\n",
       "      <td>11-2020</td>\n",
       "      <td>BigBasket</td>\n",
       "      <td>online grocer</td>\n",
       "      <td>20.0</td>\n",
       "      <td>[email id, phone numbers, order details, addre...</td>\n",
       "    </tr>\n",
       "    <tr>\n",
       "      <th>59</th>\n",
       "      <td>05-2020</td>\n",
       "      <td>Unacademy</td>\n",
       "      <td>education</td>\n",
       "      <td>20.0</td>\n",
       "      <td>[IDs, passwords, date joined, last login date,...</td>\n",
       "    </tr>\n",
       "    <tr>\n",
       "      <th>60</th>\n",
       "      <td>05-2021</td>\n",
       "      <td>Air India</td>\n",
       "      <td>airlines</td>\n",
       "      <td>4.5</td>\n",
       "      <td>[passport, credit card details, birth dates, n...</td>\n",
       "    </tr>\n",
       "    <tr>\n",
       "      <th>61</th>\n",
       "      <td>05-2021</td>\n",
       "      <td>Dominos</td>\n",
       "      <td>food chain</td>\n",
       "      <td>180.0</td>\n",
       "      <td>[order details, email addresses, phone numbers...</td>\n",
       "    </tr>\n",
       "  </tbody>\n",
       "</table>\n",
       "<p>62 rows × 5 columns</p>\n",
       "</div>"
      ],
      "text/plain": [
       "       Date                             Org                    Category  \\\n",
       "0   04-2020                            CAM4      live streaming website   \n",
       "1   10-2017                           Yahoo       web services provider   \n",
       "2   03-2018                          Aadhar                         NaN   \n",
       "3   03-2019  First American Financial Corp.  financial services company   \n",
       "4   02-2019                Verifications.io            security startup   \n",
       "..      ...                             ...                         ...   \n",
       "57  10-2019           Multiple Indian Banks                        bank   \n",
       "58  11-2020                       BigBasket               online grocer   \n",
       "59  05-2020                       Unacademy                   education   \n",
       "60  05-2021                       Air India                    airlines   \n",
       "61  05-2021                         Dominos                  food chain   \n",
       "\n",
       "    breach_count                                               type  \n",
       "0        10880.0  [Names,Email addresses,Genders,Chat transcript...  \n",
       "1         3000.0            [ Security questions, security answers]  \n",
       "2         1100.0              [ Names, Aadhar number, bank details]  \n",
       "3          885.0  [bank account records, social security numbers...  \n",
       "4          763.0  [names, phone numbers, IP addresses, dates of ...  \n",
       "..           ...                                                ...  \n",
       "57           1.3          [names, emails, phone numbers, addresses]  \n",
       "58          20.0  [email id, phone numbers, order details, addre...  \n",
       "59          20.0  [IDs, passwords, date joined, last login date,...  \n",
       "60           4.5  [passport, credit card details, birth dates, n...  \n",
       "61         180.0  [order details, email addresses, phone numbers...  \n",
       "\n",
       "[62 rows x 5 columns]"
      ]
     },
     "execution_count": 5,
     "metadata": {},
     "output_type": "execute_result"
    }
   ],
   "source": [
    "data2"
   ]
  },
  {
   "cell_type": "code",
   "execution_count": 6,
   "id": "f8eae71a",
   "metadata": {},
   "outputs": [
    {
     "data": {
      "text/plain": [
       "str"
      ]
     },
     "execution_count": 6,
     "metadata": {},
     "output_type": "execute_result"
    }
   ],
   "source": [
    "type(data2.type[0])"
   ]
  },
  {
   "cell_type": "code",
   "execution_count": 7,
   "id": "096161c0",
   "metadata": {},
   "outputs": [],
   "source": [
    "Names = [ i[\"Title\"] for i in data ]\n",
    "dates = [ i[\"BreachDate\"] for i in data ]\n",
    "cat = [ None for i in data]\n",
    "feilds = [ i[\"DataClasses\"] for i in data ]\n",
    "count = [ i[\"PwnCount\"] for i in data ]"
   ]
  },
  {
   "cell_type": "code",
   "execution_count": 8,
   "id": "d5ac5da1",
   "metadata": {},
   "outputs": [],
   "source": [
    "for idx, val in enumerate(data2[\"Date\"]):\n",
    "    Names.append(data2[\"Org\"][idx])\n",
    "    dates.append(data2[\"Date\"][idx])\n",
    "    cat.append(data2[\"Category\"][idx])\n",
    "#     print(data2[\"type\"][idx].split(\",\").trim())\n",
    "    feilds.append(data2[\"type\"][idx].split(\",\"))\n",
    "    count.append(data2[\"breach_count\"][idx]*1000000)"
   ]
  },
  {
   "cell_type": "code",
   "execution_count": 9,
   "id": "01f42a8e",
   "metadata": {},
   "outputs": [],
   "source": [
    "Df_data = pd.DataFrame([Names, dates, cat, feilds, count])\n",
    "Df_data = Df_data.T\n",
    "Df_data.columns=[\"Org\", \"Breach Date\", \"Category\", \"Data Feilds\", \"People Impacted\"] "
   ]
  },
  {
   "cell_type": "markdown",
   "id": "22e3912f",
   "metadata": {},
   "source": [
    "### Sample data for company size"
   ]
  },
  {
   "cell_type": "code",
   "execution_count": 10,
   "id": "eeb5ffdd",
   "metadata": {},
   "outputs": [],
   "source": [
    "MAX_SIZE = 1e9\n",
    "Df_data['Org Size'] = randint(MAX_SIZE, size=len(Df_data['Org']), dtype=int)\n",
    "\n",
    "# temp = []\n",
    "# for i in range(len(Df_data['Org'])):\n",
    "#     temp.append(int(randint(MAX_SIZE)))\n",
    "# Df_data['Org Size'] = temp\n"
   ]
  },
  {
   "cell_type": "code",
   "execution_count": 11,
   "id": "9492f9bb",
   "metadata": {},
   "outputs": [
    {
     "data": {
      "text/plain": [
       "numpy.int64"
      ]
     },
     "execution_count": 11,
     "metadata": {},
     "output_type": "execute_result"
    }
   ],
   "source": [
    "type(Df_data['Org Size'][0])"
   ]
  },
  {
   "cell_type": "markdown",
   "id": "e39d426c",
   "metadata": {},
   "source": [
    "## Make dict and Save data as json\n"
   ]
  },
  {
   "cell_type": "raw",
   "id": "11858c26",
   "metadata": {},
   "source": [
    "demo: {\n",
    "      labels: [\"Label 1\", \"Label 2\", \"Label 3\"],\n",
    "      datasets: [{\n",
    "         label: 'Legend',\n",
    "         data: [{\n",
    "            x: -10,\n",
    "            y: 0,\n",
    "         }, {\n",
    "            x: 0,\n",
    "            y: 10\n",
    "         }, {\n",
    "            x: 10,\n",
    "            y: 5\n",
    "         }]\n",
    "      }]\n",
    "   }"
   ]
  },
  {
   "cell_type": "code",
   "execution_count": 12,
   "id": "3e2c90f5",
   "metadata": {},
   "outputs": [],
   "source": [
    "final = { \"labels\": [], \n",
    "         \"datasets\":[{\"backgroundColor\": \"purple\",\n",
    "                      \"pointBackgroundColor\": \"#80008069\",\n",
    "                      \"pointHoverBackgroundColor\": \"red\",\n",
    "                      \"pointHoverRadius\": \"5\",\n",
    "                      \"label\": 'Legend',\n",
    "                      \"data\": []}] }"
   ]
  },
  {
   "cell_type": "code",
   "execution_count": 13,
   "id": "5452e402",
   "metadata": {},
   "outputs": [],
   "source": [
    "for num, i in enumerate(Df_data['Org']):\n",
    "    final['labels'].append(i)\n",
    "    final['datasets'][0]['data'].append({\n",
    "                                \"x\": int(Df_data['Org Size'][num]),\n",
    "                                \"y\": int(len(Df_data['Data Feilds'][num])*Df_data['People Impacted'][num])\n",
    "                                })"
   ]
  },
  {
   "cell_type": "code",
   "execution_count": 14,
   "id": "1dfebdb5",
   "metadata": {},
   "outputs": [],
   "source": [
    "out_file = open(\"./plotting/data/plotting_file.json\", \"w\") \n",
    "    \n",
    "json.dump(final, out_file, indent = 4) \n",
    "    \n",
    "out_file.close() "
   ]
  },
  {
   "cell_type": "code",
   "execution_count": 16,
   "id": "8b250273",
   "metadata": {},
   "outputs": [
    {
     "data": {
      "text/plain": [
       "<matplotlib.axes._subplots.AxesSubplot at 0x7fe890b2ba30>"
      ]
     },
     "execution_count": 16,
     "metadata": {},
     "output_type": "execute_result"
    },
    {
     "data": {
      "image/png": "[encoded data removed]",
      "text/plain": [
       "<Figure size 432x288 with 1 Axes>"
      ]
     },
     "metadata": {
      "needs_background": "light"
     },
     "output_type": "display_data"
    }
   ],
   "source": [
    "Df_data[\"People Impacted\"].hist()"
   ]
  },
  {
   "cell_type": "code",
   "execution_count": 21,
   "id": "1c85b485",
   "metadata": {},
   "outputs": [
    {
     "data": {
      "text/plain": [
       "array([[<matplotlib.axes._subplots.AxesSubplot object at 0x7fe890ee3a00>]],\n",
       "      dtype=object)"
      ]
     },
     "execution_count": 21,
     "metadata": {},
     "output_type": "execute_result"
    },
    {
     "data": {
      "image/png": "[encoded data removed]",
      "text/plain": [
       "<Figure size 432x288 with 1 Axes>"
      ]
     },
     "metadata": {
      "needs_background": "light"
     },
     "output_type": "display_data"
    }
   ],
   "source": [
    "Df_data[Df_data[\"People Impacted\"] < 1e9].hist()"
   ]
  },
  {
   "cell_type": "code",
   "execution_count": null,
   "id": "e3d51ef4",
   "metadata": {},
   "outputs": [],
   "source": []
  }
 ],
 "metadata": {
  "kernelspec": {
   "display_name": "Python 3",
   "language": "python",
   "name": "python3"
  },
  "language_info": {
   "codemirror_mode": {
    "name": "ipython",
    "version": 3
   },
   "file_extension": ".py",
   "mimetype": "text/x-python",
   "name": "python",
   "nbconvert_exporter": "python",
   "pygments_lexer": "ipython3",
   "version": "3.7.5"
  }
 },
 "nbformat": 4,
 "nbformat_minor": 5
}
