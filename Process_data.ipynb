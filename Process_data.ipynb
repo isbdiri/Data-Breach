{
 "cells": [
  {
   "cell_type": "code",
   "execution_count": 1,
   "id": "dc6a084e",
   "metadata": {},
   "outputs": [],
   "source": [
    "import pandas as pd\n",
    "from numpy.random import randint\n",
    "import json"
   ]
  },
  {
   "cell_type": "code",
   "execution_count": 2,
   "id": "2298964e",
   "metadata": {},
   "outputs": [],
   "source": [
    "from data.databreach2 import data"
   ]
  },
  {
   "cell_type": "code",
   "execution_count": 3,
   "id": "c2c90962",
   "metadata": {},
   "outputs": [
    {
     "name": "stdout",
     "output_type": "stream",
     "text": [
      "num data points:  540\n",
      "columns:  dict_keys(['Name', 'Title', 'Domain', 'BreachDate', 'AddedDate', 'ModifiedDate', 'PwnCount', 'Description', 'LogoPath', 'DataClasses', 'IsVerified', 'IsFabricated', 'IsSensitive', 'IsRetired', 'IsSpamList'])\n"
     ]
    }
   ],
   "source": [
    "print(\"num data points: \", len(data))\n",
    "print(\"columns: \", data[0].keys())"
   ]
  },
  {
   "cell_type": "code",
   "execution_count": 4,
   "id": "3e0e5f4c",
   "metadata": {},
   "outputs": [],
   "source": [
    "Names = [ i[\"Title\"] for i in data ]\n",
    "dates = [ i[\"BreachDate\"] for i in data ]\n",
    "cat = [ None for i in data]\n",
    "feilds = [ i[\"DataClasses\"] for i in data ]\n",
    "count = [ i[\"PwnCount\"] for i in data ]"
   ]
  },
  {
   "cell_type": "code",
   "execution_count": 5,
   "id": "11f209fe",
   "metadata": {},
   "outputs": [],
   "source": [
    "Df_data = pd.DataFrame([Names, dates, cat, feilds, count])\n",
    "Df_data = Df_data.T\n",
    "Df_data.columns=[\"Org\", \"Breach Date\", \"Category\", \"Data Feilds\", \"People Impacted\"] "
   ]
  },
  {
   "cell_type": "markdown",
   "id": "08cf6bf2",
   "metadata": {},
   "source": [
    "### Sample data for company size"
   ]
  },
  {
   "cell_type": "code",
   "execution_count": 6,
   "id": "4ddcb105",
   "metadata": {},
   "outputs": [],
   "source": [
    "MAX_SIZE = 1e9\n",
    "Df_data['Org Size'] = randint(MAX_SIZE, size=len(Df_data['Org']), dtype=int)\n",
    "\n",
    "# temp = []\n",
    "# for i in range(len(Df_data['Org'])):\n",
    "#     temp.append(int(randint(MAX_SIZE)))\n",
    "# Df_data['Org Size'] = temp\n"
   ]
  },
  {
   "cell_type": "code",
   "execution_count": 7,
   "id": "c8926f2f",
   "metadata": {},
   "outputs": [
    {
     "data": {
      "text/plain": [
       "numpy.int64"
      ]
     },
     "execution_count": 7,
     "metadata": {},
     "output_type": "execute_result"
    }
   ],
   "source": [
    "type(Df_data['Org Size'][0])"
   ]
  },
  {
   "cell_type": "markdown",
   "id": "86717678",
   "metadata": {},
   "source": [
    "## Make dict and Save data as json\n"
   ]
  },
  {
   "cell_type": "raw",
   "id": "eae6653f",
   "metadata": {},
   "source": [
    "demo: {\n",
    "      labels: [\"Label 1\", \"Label 2\", \"Label 3\"],\n",
    "      datasets: [{\n",
    "         label: 'Legend',\n",
    "         data: [{\n",
    "            x: -10,\n",
    "            y: 0,\n",
    "         }, {\n",
    "            x: 0,\n",
    "            y: 10\n",
    "         }, {\n",
    "            x: 10,\n",
    "            y: 5\n",
    "         }]\n",
    "      }]\n",
    "   }"
   ]
  },
  {
   "cell_type": "code",
   "execution_count": 8,
   "id": "af487068",
   "metadata": {},
   "outputs": [],
   "source": [
    "final = { \"labels\": [], \n",
    "         \"datasets\":[{\"label\": 'Legend',\n",
    "                     \"data\": []}] }"
   ]
  },
  {
   "cell_type": "code",
   "execution_count": 9,
   "id": "cb21c321",
   "metadata": {},
   "outputs": [],
   "source": [
    "for num, i in enumerate(Df_data['Org']):\n",
    "    final['labels'].append(i)\n",
    "    final['datasets'][0]['data'].append({\n",
    "                                \"x\": int(Df_data['Org Size'][num]),\n",
    "                                \"y\": int(len(Df_data['Data Feilds'][num])*Df_data['People Impacted'][num])\n",
    "                                })"
   ]
  },
  {
   "cell_type": "code",
   "execution_count": 10,
   "id": "5995f719",
   "metadata": {},
   "outputs": [],
   "source": [
    "out_file = open(\"./data/plotting_file.json\", \"w\") \n",
    "    \n",
    "json.dump(final, out_file, indent = 4) \n",
    "    \n",
    "out_file.close() "
   ]
  },
  {
   "cell_type": "code",
   "execution_count": null,
   "id": "b52d6d4c",
   "metadata": {},
   "outputs": [],
   "source": []
  }
 ],
 "metadata": {
  "kernelspec": {
   "display_name": "Python 3",
   "language": "python",
   "name": "python3"
  },
  "language_info": {
   "codemirror_mode": {
    "name": "ipython",
    "version": 3
   },
   "file_extension": ".py",
   "mimetype": "text/x-python",
   "name": "python",
   "nbconvert_exporter": "python",
   "pygments_lexer": "ipython3",
   "version": "3.7.5"
  }
 },
 "nbformat": 4,
 "nbformat_minor": 5
}
