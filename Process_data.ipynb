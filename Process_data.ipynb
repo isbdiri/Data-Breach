{
 "cells": [
  {
   "cell_type": "code",
   "execution_count": 35,
   "id": "dc6a084e",
   "metadata": {},
   "outputs": [],
   "source": [
    "import pandas as pd\n",
    "import numpy as np"
   ]
  },
  {
   "cell_type": "code",
   "execution_count": 2,
   "id": "2298964e",
   "metadata": {},
   "outputs": [],
   "source": [
    "from data.databreach2 import data"
   ]
  },
  {
   "cell_type": "code",
   "execution_count": 6,
   "id": "c2c90962",
   "metadata": {},
   "outputs": [
    {
     "name": "stdout",
     "output_type": "stream",
     "text": [
      "num data points:  540\n",
      "columns:  dict_keys(['Name', 'Title', 'Domain', 'BreachDate', 'AddedDate', 'ModifiedDate', 'PwnCount', 'Description', 'LogoPath', 'DataClasses', 'IsVerified', 'IsFabricated', 'IsSensitive', 'IsRetired', 'IsSpamList'])\n"
     ]
    }
   ],
   "source": [
    "print(\"num data points: \", len(data))\n",
    "print(\"columns: \", data[0].keys())"
   ]
  },
  {
   "cell_type": "code",
   "execution_count": 13,
   "id": "3e0e5f4c",
   "metadata": {},
   "outputs": [],
   "source": [
    "Names = [ i[\"Title\"] for i in data ]\n",
    "dates = [ i[\"BreachDate\"] for i in data ]\n",
    "cat = [ None for i in data]\n",
    "feilds = [ i[\"DataClasses\"] for i in data ]\n",
    "count = [ i[\"PwnCount\"] for i in data ]"
   ]
  },
  {
   "cell_type": "code",
   "execution_count": 26,
   "id": "11f209fe",
   "metadata": {},
   "outputs": [],
   "source": [
    "Df_data = pd.DataFrame([Names, dates, cat, feilds, count])\n",
    "Df_data = Df_data.T\n",
    "Df_data.columns=[\"Org\", \"Breach Date\", \"Category\", \"Data Feilds\", \"People Impacted\"] "
   ]
  },
  {
   "cell_type": "code",
   "execution_count": 27,
   "id": "ea21c3f7",
   "metadata": {},
   "outputs": [
    {
     "data": {
      "text/html": [
       "<div>\n",
       "<style scoped>\n",
       "    .dataframe tbody tr th:only-of-type {\n",
       "        vertical-align: middle;\n",
       "    }\n",
       "\n",
       "    .dataframe tbody tr th {\n",
       "        vertical-align: top;\n",
       "    }\n",
       "\n",
       "    .dataframe thead th {\n",
       "        text-align: right;\n",
       "    }\n",
       "</style>\n",
       "<table border=\"1\" class=\"dataframe\">\n",
       "  <thead>\n",
       "    <tr style=\"text-align: right;\">\n",
       "      <th></th>\n",
       "      <th>Org</th>\n",
       "      <th>Breach Date</th>\n",
       "      <th>Category</th>\n",
       "      <th>Data Feilds</th>\n",
       "      <th>People Impacted</th>\n",
       "    </tr>\n",
       "  </thead>\n",
       "  <tbody>\n",
       "    <tr>\n",
       "      <th>0</th>\n",
       "      <td>000webhost</td>\n",
       "      <td>2015-03-01</td>\n",
       "      <td>None</td>\n",
       "      <td>[Email addresses, IP addresses, Names, Passwords]</td>\n",
       "      <td>14936670</td>\n",
       "    </tr>\n",
       "    <tr>\n",
       "      <th>1</th>\n",
       "      <td>123RF</td>\n",
       "      <td>2020-03-22</td>\n",
       "      <td>None</td>\n",
       "      <td>[Email addresses, IP addresses, Names, Passwor...</td>\n",
       "      <td>8661578</td>\n",
       "    </tr>\n",
       "    <tr>\n",
       "      <th>2</th>\n",
       "      <td>126</td>\n",
       "      <td>2012-01-01</td>\n",
       "      <td>None</td>\n",
       "      <td>[Email addresses, Passwords]</td>\n",
       "      <td>6414191</td>\n",
       "    </tr>\n",
       "    <tr>\n",
       "      <th>3</th>\n",
       "      <td>17</td>\n",
       "      <td>2016-04-19</td>\n",
       "      <td>None</td>\n",
       "      <td>[Device information, Email addresses, IP addre...</td>\n",
       "      <td>4009640</td>\n",
       "    </tr>\n",
       "    <tr>\n",
       "      <th>4</th>\n",
       "      <td>17173</td>\n",
       "      <td>2011-12-28</td>\n",
       "      <td>None</td>\n",
       "      <td>[Email addresses, Passwords, Usernames]</td>\n",
       "      <td>7485802</td>\n",
       "    </tr>\n",
       "    <tr>\n",
       "      <th>...</th>\n",
       "      <td>...</td>\n",
       "      <td>...</td>\n",
       "      <td>...</td>\n",
       "      <td>...</td>\n",
       "      <td>...</td>\n",
       "    </tr>\n",
       "    <tr>\n",
       "      <th>535</th>\n",
       "      <td>Zooville</td>\n",
       "      <td>2019-09-27</td>\n",
       "      <td>None</td>\n",
       "      <td>[Dates of birth, Email addresses, IP addresses...</td>\n",
       "      <td>71407</td>\n",
       "    </tr>\n",
       "    <tr>\n",
       "      <th>536</th>\n",
       "      <td>Zynga</td>\n",
       "      <td>2019-09-01</td>\n",
       "      <td>None</td>\n",
       "      <td>[Email addresses, Passwords, Phone numbers, Us...</td>\n",
       "      <td>172869660</td>\n",
       "    </tr>\n",
       "    <tr>\n",
       "      <th>537</th>\n",
       "      <td>Пара Па</td>\n",
       "      <td>2016-08-08</td>\n",
       "      <td>None</td>\n",
       "      <td>[Email addresses, Passwords, Usernames]</td>\n",
       "      <td>4946850</td>\n",
       "    </tr>\n",
       "    <tr>\n",
       "      <th>538</th>\n",
       "      <td>Спрашивай.ру</td>\n",
       "      <td>2015-05-11</td>\n",
       "      <td>None</td>\n",
       "      <td>[Dates of birth, Email addresses, Genders, Geo...</td>\n",
       "      <td>3474763</td>\n",
       "    </tr>\n",
       "    <tr>\n",
       "      <th>539</th>\n",
       "      <td>집꾸미기</td>\n",
       "      <td>2020-03-27</td>\n",
       "      <td>None</td>\n",
       "      <td>[Email addresses, Names, Phone numbers, Userna...</td>\n",
       "      <td>1298651</td>\n",
       "    </tr>\n",
       "  </tbody>\n",
       "</table>\n",
       "<p>540 rows × 5 columns</p>\n",
       "</div>"
      ],
      "text/plain": [
       "              Org Breach Date Category  \\\n",
       "0      000webhost  2015-03-01     None   \n",
       "1           123RF  2020-03-22     None   \n",
       "2             126  2012-01-01     None   \n",
       "3              17  2016-04-19     None   \n",
       "4           17173  2011-12-28     None   \n",
       "..            ...         ...      ...   \n",
       "535      Zooville  2019-09-27     None   \n",
       "536         Zynga  2019-09-01     None   \n",
       "537       Пара Па  2016-08-08     None   \n",
       "538  Спрашивай.ру  2015-05-11     None   \n",
       "539          집꾸미기  2020-03-27     None   \n",
       "\n",
       "                                           Data Feilds People Impacted  \n",
       "0    [Email addresses, IP addresses, Names, Passwords]        14936670  \n",
       "1    [Email addresses, IP addresses, Names, Passwor...         8661578  \n",
       "2                         [Email addresses, Passwords]         6414191  \n",
       "3    [Device information, Email addresses, IP addre...         4009640  \n",
       "4              [Email addresses, Passwords, Usernames]         7485802  \n",
       "..                                                 ...             ...  \n",
       "535  [Dates of birth, Email addresses, IP addresses...           71407  \n",
       "536  [Email addresses, Passwords, Phone numbers, Us...       172869660  \n",
       "537            [Email addresses, Passwords, Usernames]         4946850  \n",
       "538  [Dates of birth, Email addresses, Genders, Geo...         3474763  \n",
       "539  [Email addresses, Names, Phone numbers, Userna...         1298651  \n",
       "\n",
       "[540 rows x 5 columns]"
      ]
     },
     "execution_count": 27,
     "metadata": {},
     "output_type": "execute_result"
    }
   ],
   "source": [
    "Df_data"
   ]
  },
  {
   "cell_type": "code",
   "execution_count": 40,
   "id": "a63b3bb5",
   "metadata": {},
   "outputs": [],
   "source": [
    "unique_cats = []\n",
    "for i in data:\n",
    "    for j in i[\"DataClasses\"]:\n",
    "        unique_cats.append(j)\n",
    "unique_cats = np.array(unique_cats)\n",
    "unique_cats = np.unique(unique_cats)"
   ]
  },
  {
   "cell_type": "code",
   "execution_count": 41,
   "id": "70db4290",
   "metadata": {},
   "outputs": [
    {
     "name": "stdout",
     "output_type": "stream",
     "text": [
      "['Account balances' 'Address book contacts' 'Age groups' 'Ages'\n",
      " 'Apps installed on devices' 'Astrological signs' 'Audio recordings'\n",
      " 'Auth tokens' 'Avatars' 'Bank account numbers' 'Beauty ratings'\n",
      " 'Biometric data' 'Bios' 'Browser user agent details' 'Browsing histories'\n",
      " 'Buying preferences' 'Car ownership statuses' 'Career levels'\n",
      " 'Cellular network names' 'Charitable donations' 'Chat logs'\n",
      " 'Credit card CVV' 'Credit cards' 'Credit status information'\n",
      " 'Customer feedback' 'Customer interactions' 'Dates of birth'\n",
      " 'Deceased date' 'Deceased statuses' 'Device information'\n",
      " 'Device serial numbers' 'Device usage tracking data' 'Drinking habits'\n",
      " 'Drug habits' 'Eating habits' 'Education levels' 'Email addresses'\n",
      " 'Email messages' 'Employers' 'Employment statuses' 'Encrypted keys'\n",
      " 'Ethnicities' \"Family members' names\" 'Family structure'\n",
      " 'Financial investments' 'Financial transactions' 'Fitness levels'\n",
      " 'Genders' 'Geographic locations' 'Government issued IDs'\n",
      " 'Health insurance information' 'Historical passwords'\n",
      " 'Home loan information' 'Home ownership statuses' 'Homepage URLs'\n",
      " 'IMEI numbers' 'IMSI numbers' 'IP addresses' 'Income levels'\n",
      " 'Instant messenger identities' 'Job applications' 'Job titles'\n",
      " 'Licence plates' 'Living costs' 'Login histories' 'MAC addresses'\n",
      " 'Marital statuses' 'Mnemonic phrases' 'Mothers maiden names' 'Names'\n",
      " 'Nationalities' 'Net worths' 'Nicknames' 'Occupations' 'PINs'\n",
      " 'Parenting plans' 'Partial credit card data' 'Partial dates of birth'\n",
      " 'Passport numbers' 'Password hints' 'Password strengths' 'Passwords'\n",
      " 'Payment histories' 'Payment methods' 'Personal descriptions'\n",
      " 'Personal health data' 'Personal interests' 'Phone numbers' 'Photos'\n",
      " 'Physical addresses' 'Physical attributes' 'Places of birth'\n",
      " 'Political donations' 'Political views' 'Private messages'\n",
      " 'Professional skills' 'Profile photos' 'Purchases' 'Purchasing habits'\n",
      " 'Races' 'Recovery email addresses' 'Relationship statuses' 'Religions'\n",
      " 'Reward program balances' 'SMS messages' 'Salutations'\n",
      " 'School grades (class levels)' 'Security questions and answers'\n",
      " 'Sexual fetishes' 'Sexual orientations' 'Smoking habits'\n",
      " 'Social connections' 'Social media profiles' 'Social security numbers'\n",
      " 'Spoken languages' 'Spouses names' 'Support tickets' 'Survey results'\n",
      " 'Taxation records' 'Time zones' 'Travel habits' 'User statuses'\n",
      " 'User website URLs' 'Usernames' 'Utility bills' 'Vehicle details'\n",
      " 'Website activity' 'Work habits' 'Years of professional experience']\n"
     ]
    }
   ],
   "source": [
    "print(unique_cats)"
   ]
  },
  {
   "cell_type": "code",
   "execution_count": null,
   "id": "af8e4359",
   "metadata": {},
   "outputs": [],
   "source": []
  }
 ],
 "metadata": {
  "kernelspec": {
   "display_name": "Python 3",
   "language": "python",
   "name": "python3"
  },
  "language_info": {
   "codemirror_mode": {
    "name": "ipython",
    "version": 3
   },
   "file_extension": ".py",
   "mimetype": "text/x-python",
   "name": "python",
   "nbconvert_exporter": "python",
   "pygments_lexer": "ipython3",
   "version": "3.7.5"
  }
 },
 "nbformat": 4,
 "nbformat_minor": 5
}
